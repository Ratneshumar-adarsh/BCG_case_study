{
 "cells": [
  {
   "cell_type": "code",
   "execution_count": 0,
   "metadata": {
    "application/vnd.databricks.v1+cell": {
     "cellMetadata": {
      "byteLimit": 2048000,
      "rowLimit": 10000
     },
     "inputWidgets": {},
     "nuid": "7da794cd-4d0e-400d-8468-2e4bbcc12201",
     "showTitle": false,
     "tableResultSettingsMap": {},
     "title": ""
    }
   },
   "outputs": [],
   "source": [
    "# import yaml\n",
    "def config_func():\n",
    "  config_file = {\n",
    "      \"input\": {\n",
    "          \"data_path\": \"./data/\",\n",
    "          \"file_names\": [\"Charges_use.csv\", \"Units_use.csv\", \"Primary_Person_use.csv\", \"Restrict_use.csv\", \"Endorse_use.csv\", \"Damages_use.csv\"]\n",
    "      },\n",
    "      \"output\": {\n",
    "          \"result_path\": \"./output/\"\n",
    "      },\n",
    "      \"spark\": {\n",
    "        \"appName\":\"CrashAnalysisApp\",\n",
    "        \"master\":'local[*]',\n",
    "        \"config_options\":{\n",
    "          \"spark.executor.memory\":\"2g\",\n",
    "          \"spark.executor.cores\":2\n",
    "        }\n",
    "      }\n",
    "\n",
    "  }\n",
    "  return config_file"
   ]
  },
  {
   "cell_type": "code",
   "execution_count": 0,
   "metadata": {
    "application/vnd.databricks.v1+cell": {
     "cellMetadata": {},
     "inputWidgets": {},
     "nuid": "1fe9439f-e6c4-4436-a5a3-c8ce54366e17",
     "showTitle": false,
     "tableResultSettingsMap": {},
     "title": ""
    }
   },
   "outputs": [],
   "source": []
  }
 ],
 "metadata": {
  "application/vnd.databricks.v1+notebook": {
   "dashboards": [],
   "environmentMetadata": null,
   "language": "python",
   "notebookMetadata": {
    "pythonIndentUnit": 2
   },
   "notebookName": "config.py",
   "widgets": {}
  }
 },
 "nbformat": 4,
 "nbformat_minor": 0
}
