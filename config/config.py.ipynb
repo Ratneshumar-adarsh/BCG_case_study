{
 "cells": [
  {
   "cell_type": "code",
   "execution_count": 0,
   "metadata": {
    "application/vnd.databricks.v1+cell": {
     "cellMetadata": {
      "byteLimit": 2048000,
      "rowLimit": 10000
     },
     "inputWidgets": {},
     "nuid": "7da794cd-4d0e-400d-8468-2e4bbcc12201",
     "showTitle": false,
     "tableResultSettingsMap": {},
     "title": ""
    }
   },
   "outputs": [
    {
     "output_type": "stream",
     "name": "stdout",
     "output_type": "stream",
     "text": [
      "{'input': {'data_path': './data/', 'file_names': ['Charges_use.csv', 'Units_use.csv', 'Primary_Person_use.csv', 'Restrict_use.csv', 'Endorse_use.csv', 'Damages_use.csv']}, 'output_data': {'results_folder': './output/'}, 'spark': {'appName': 'CrashAnalysisApp', 'master': 'local[*]', 'config_options': {'spark.executor.memory': '2g', 'spark.executor.cores': 2}}}\n"
     ]
    }
   ],
   "source": [
    "# import yaml\n",
    "def config_func():\n",
    "  config_file = {\n",
    "      \"input\": {\n",
    "          \"data_path\": \"dbfs:/FileStore/data/\",\n",
    "          \"file_names\": [\"Charges_use.csv\", \"Units_use.csv\", \"Primary_Person_use.csv\", \"Restrict_use.csv\", \"Endorse_use.csv\", \"Damages_use.csv\"]\n",
    "      },\n",
    "      \"output\": {\n",
    "          \"result_path\": \"dbfs:/FileStore/data/\"\n",
    "      },\n",
    "      \"spark\": {\n",
    "        \"appName\":\"CrashAnalysisApp\",\n",
    "        \"master\":'local[*]',\n",
    "        \"config_options\":{\n",
    "          \"spark.executor.memory\":\"2g\",\n",
    "          \"spark.executor.cores\":2\n",
    "        }\n",
    "      }\n",
    "\n",
    "  }\n",
    "  return config_file"
   ]
  },
  {
   "cell_type": "code",
   "execution_count": 0,
   "metadata": {
    "application/vnd.databricks.v1+cell": {
     "cellMetadata": {
      "byteLimit": 2048000,
      "rowLimit": 10000
     },
     "inputWidgets": {},
     "nuid": "44ba1a8e-e8b7-4893-9faa-c59ab2f7733d",
     "showTitle": false,
     "tableResultSettingsMap": {},
     "title": ""
    }
   },
   "outputs": [
    {
     "output_type": "stream",
     "name": "stdout",
     "output_type": "stream",
     "text": [
      "Out[3]: {'input': {'data_path': 'dbfs:/FileStore/data/',\n  'file_names': ['Charges_use.csv',\n   'Units_use.csv',\n   'Primary_Person_use.csv',\n   'Restrict_use.csv',\n   'Endorse_use.csv',\n   'Damages_use.csv']},\n 'output_data': {'results_folder': '/dbfs/path/to/output/folder'}}"
     ]
    }
   ],
   "source": [
    "# yaml_content = yaml.dump(config_file, default_flow_style=False)\n",
    "# yaml_path='dbfs:/FileStore/data/config.yaml'\n",
    "\n",
    "# dbutils.fs.put(yaml_path, yaml_content, overwrite=True)\n",
    "# print(yaml_path)\n",
    "\n",
    "# yaml_content = dbutils.fs.head(yaml_path)\n",
    "# config_dict = yaml.safe_load(yaml_content)\n",
    "# config_dict"
   ]
  }
 ],
 "metadata": {
  "application/vnd.databricks.v1+notebook": {
   "dashboards": [],
   "environmentMetadata": null,
   "language": "python",
   "notebookMetadata": {
    "pythonIndentUnit": 2
   },
   "notebookName": "config.py",
   "widgets": {}
  }
 },
 "nbformat": 4,
 "nbformat_minor": 0
}
