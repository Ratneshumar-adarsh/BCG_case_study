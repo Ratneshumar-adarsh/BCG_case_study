{
 "cells": [
  {
   "cell_type": "code",
   "execution_count": 0,
   "metadata": {
    "application/vnd.databricks.v1+cell": {
     "cellMetadata": {
      "byteLimit": 2048000,
      "rowLimit": 10000
     },
     "inputWidgets": {},
     "nuid": "1fd1d744-6026-4f43-9b1f-96bfbb82d53a",
     "showTitle": false,
     "tableResultSettingsMap": {},
     "title": ""
    }
   },
   "outputs": [],
   "source": [
    "# import yaml\n",
    "\n",
    "# class config_loader:\n",
    "#     def __init__(self,yaml_path):\n",
    "#         self.yaml_path=yaml_path\n",
    "#     def load_config(self) -> dict:\n",
    "#         # Read the YAML file from DBFS into a string using dbutils.fs.head()\n",
    "#         yaml_content = dbutils.fs.head(self.yaml_path)\n",
    "\n",
    "#         # Parse the YAML string to a dictionary\n",
    "#         config_dict = yaml.safe_load(yaml_content)\n",
    "\n",
    "#         return config_dict\n"
   ]
  },
  {
   "cell_type": "code",
   "execution_count": 0,
   "metadata": {
    "application/vnd.databricks.v1+cell": {
     "cellMetadata": {},
     "inputWidgets": {},
     "nuid": "10bcb79d-52e4-44fb-9444-51d1dc6d5cc0",
     "showTitle": false,
     "tableResultSettingsMap": {},
     "title": ""
    }
   },
   "outputs": [],
   "source": []
  }
 ],
 "metadata": {
  "application/vnd.databricks.v1+notebook": {
   "dashboards": [],
   "environmentMetadata": null,
   "language": "python",
   "notebookMetadata": {
    "pythonIndentUnit": 2
   },
   "notebookName": "utility.py",
   "widgets": {}
  }
 },
 "nbformat": 4,
 "nbformat_minor": 0
}
