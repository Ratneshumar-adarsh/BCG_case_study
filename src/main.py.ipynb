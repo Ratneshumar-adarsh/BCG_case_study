{
 "cells": [
  {
   "cell_type": "code",
   "execution_count": 0,
   "metadata": {
    "application/vnd.databricks.v1+cell": {
     "cellMetadata": {
      "byteLimit": 2048000,
      "rowLimit": 10000
     },
     "inputWidgets": {},
     "nuid": "89abd444-35fd-433e-826f-912f422087e2",
     "showTitle": false,
     "tableResultSettingsMap": {},
     "title": ""
    }
   },
   "outputs": [
    {
     "output_type": "stream",
     "name": "stdout",
     "output_type": "stream",
     "text": [
      "Python interpreter will be restarted.\nRequirement already satisfied: pyyaml in /local_disk0/.ephemeral_nfs/envs/pythonEnv-7a7ccdc9-cf56-4fce-be43-f9f8898da6e0/lib/python3.9/site-packages (6.0.2)\nPython interpreter will be restarted.\n"
     ]
    }
   ],
   "source": [
    "pip install pyyaml"
   ]
  },
  {
   "cell_type": "code",
   "execution_count": 0,
   "metadata": {
    "application/vnd.databricks.v1+cell": {
     "cellMetadata": {
      "byteLimit": 2048000,
      "rowLimit": 10000
     },
     "inputWidgets": {},
     "nuid": "b2cdaf76-3c42-4fd8-9365-a94d76839e1e",
     "showTitle": false,
     "tableResultSettingsMap": {},
     "title": ""
    }
   },
   "outputs": [],
   "source": [
    "from pyspark.sql import SparkSession"
   ]
  },
  {
   "cell_type": "code",
   "execution_count": 0,
   "metadata": {
    "application/vnd.databricks.v1+cell": {
     "cellMetadata": {
      "byteLimit": 2048000,
      "rowLimit": 10000
     },
     "inputWidgets": {},
     "nuid": "51973d91-4144-43de-a3a0-38eafb8619a5",
     "showTitle": false,
     "tableResultSettingsMap": {},
     "title": ""
    }
   },
   "outputs": [],
   "source": [
    "%run ../config/config.py"
   ]
  },
  {
   "cell_type": "code",
   "execution_count": 0,
   "metadata": {
    "application/vnd.databricks.v1+cell": {
     "cellMetadata": {
      "byteLimit": 2048000,
      "rowLimit": 10000
     },
     "inputWidgets": {},
     "nuid": "ca68c2b8-cc2c-4f28-b314-155d36fc34c7",
     "showTitle": false,
     "tableResultSettingsMap": {},
     "title": ""
    }
   },
   "outputs": [],
   "source": [
    "# %run ../src/utility.py"
   ]
  },
  {
   "cell_type": "code",
   "execution_count": 0,
   "metadata": {
    "application/vnd.databricks.v1+cell": {
     "cellMetadata": {
      "byteLimit": 2048000,
      "rowLimit": 10000
     },
     "inputWidgets": {},
     "nuid": "28859c17-9fc3-488d-81ab-702c55b8c554",
     "showTitle": false,
     "tableResultSettingsMap": {},
     "title": ""
    }
   },
   "outputs": [],
   "source": [
    "%run ../src/data_loader.py"
   ]
  },
  {
   "cell_type": "code",
   "execution_count": 0,
   "metadata": {
    "application/vnd.databricks.v1+cell": {
     "cellMetadata": {
      "byteLimit": 2048000,
      "rowLimit": 10000
     },
     "inputWidgets": {},
     "nuid": "c107dbf3-a5da-4859-848d-84e8463fe671",
     "showTitle": false,
     "tableResultSettingsMap": {},
     "title": ""
    }
   },
   "outputs": [],
   "source": [
    "%run ../src/analytics.py"
   ]
  },
  {
   "cell_type": "code",
   "execution_count": 0,
   "metadata": {
    "application/vnd.databricks.v1+cell": {
     "cellMetadata": {
      "byteLimit": 2048000,
      "rowLimit": 10000
     },
     "inputWidgets": {},
     "nuid": "58f1b9f7-5e8d-464c-98f7-6745ebd7e5bc",
     "showTitle": false,
     "tableResultSettingsMap": {},
     "title": ""
    }
   },
   "outputs": [],
   "source": [
    "import yaml\n",
    "from pyspark.sql import SparkSession\n",
    "# from src.utils import load_config\n",
    "# from src.data_loader import DataLoader\n",
    "# from src.analytics import Analytics\n",
    "\n",
    "def create_spark_session(config):\n",
    "    spark = SparkSession.builder.appName(config['spark']['appName'])\n",
    "    for option, value in config['spark']['config_options'].items():\n",
    "        spark = spark.config(option, value)\n",
    "    return spark.getOrCreate()\n",
    "\n",
    "if __name__ == \"__main__\":\n",
    "    # Load configuration\n",
    "    config = config_func()\n",
    "    \n",
    "    # Initialize Spark Session\n",
    "    spark = create_spark_session(config)\n",
    "    \n",
    "    # Load and prepare data\n",
    "    data_loader = DataLoader(spark, config)\n",
    "    data_frames = data_loader.load_data()\n",
    "\n",
    "    # Run analytics\n",
    "    analytics = Analytics(spark, config, data_frames)\n",
    "    analysis_1=analytics.analytics_1()\n",
    "    analysis_2=analytics.analytics_2()\n",
    "    analysis_3=analytics.analytics_3()\n",
    "    analysis_4=analytics.analytics_4()\n",
    "    analysis_5=analytics.analytics_5()\n",
    "    analysis_6=analytics.analytics_6()\n",
    "    analysis_7=analytics.analytics_7()\n",
    "    analysis_8=analytics.analytics_8()\n",
    "    analysis_9=analytics.analytics_9()\n",
    "    analysis_10=analytics.analytics_10()\n",
    "\n",
    "\n",
    "    # Stop Spark session\n",
    "    # spark.stop()\n"
   ]
  },
  {
   "cell_type": "code",
   "execution_count": 0,
   "metadata": {
    "application/vnd.databricks.v1+cell": {
     "cellMetadata": {
      "byteLimit": 2048000,
      "rowLimit": 10000
     },
     "inputWidgets": {},
     "nuid": "f94f3f88-c902-4605-b0d1-6bc2a466e121",
     "showTitle": false,
     "tableResultSettingsMap": {},
     "title": ""
    }
   },
   "outputs": [
    {
     "output_type": "stream",
     "name": "stdout",
     "output_type": "stream",
     "text": [
      "yes\n"
     ]
    }
   ],
   "source": []
  },
  {
   "cell_type": "code",
   "execution_count": 0,
   "metadata": {
    "application/vnd.databricks.v1+cell": {
     "cellMetadata": {},
     "inputWidgets": {},
     "nuid": "9ce702d5-1b9c-40a4-bd1c-727198c53a5f",
     "showTitle": false,
     "tableResultSettingsMap": {},
     "title": ""
    }
   },
   "outputs": [],
   "source": []
  }
 ],
 "metadata": {
  "application/vnd.databricks.v1+notebook": {
   "dashboards": [],
   "environmentMetadata": null,
   "language": "python",
   "notebookMetadata": {
    "pythonIndentUnit": 2
   },
   "notebookName": "main.py",
   "widgets": {}
  }
 },
 "nbformat": 4,
 "nbformat_minor": 0
}
